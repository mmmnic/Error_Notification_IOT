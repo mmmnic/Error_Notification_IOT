{
 "cells": [
  {
   "cell_type": "code",
   "execution_count": 1,
   "metadata": {},
   "outputs": [
    {
     "name": "stderr",
     "output_type": "stream",
     "text": [
      "Using TensorFlow backend.\n"
     ]
    }
   ],
   "source": [
    "import keras\n",
    "import cv2\n",
    "import numpy as np\n",
    "import matplotlib.pyplot as plt\n",
    "from keras.datasets import mnist\n",
    "\n",
    "from keras.models import Sequential\n",
    "from keras.layers import Dense\n",
    "from keras.layers import Dropout\n",
    "from keras.layers import Flatten\n",
    "from keras.layers.convolutional import Conv2D\n",
    "from keras.layers.convolutional import MaxPooling2D\n",
    "from keras.utils import np_utils"
   ]
  },
  {
   "cell_type": "code",
   "execution_count": 2,
   "metadata": {},
   "outputs": [],
   "source": [
    "(train_images, train_labels), (mnist_test_images, mnist_test_labels) = mnist.load_data()"
   ]
  },
  {
   "cell_type": "code",
   "execution_count": 3,
   "metadata": {},
   "outputs": [],
   "source": [
    "train_images = train_images.reshape(train_images.shape[0], 28, 28, 1).astype('float32')\n",
    "train_images = train_images / 255\n",
    "mnist_test_images = mnist_test_images.reshape(mnist_test_images.shape[0], 28, 28, 1).astype('float32')\n",
    "mnist_test_images = mnist_test_images / 255"
   ]
  },
  {
   "cell_type": "code",
   "execution_count": 4,
   "metadata": {},
   "outputs": [],
   "source": [
    "train_labels = np_utils.to_categorical(train_labels)\n",
    "mnist_test_labels = np_utils.to_categorical(mnist_test_labels)\n",
    "num_classes = train_labels.shape[1]"
   ]
  },
  {
   "cell_type": "code",
   "execution_count": 5,
   "metadata": {},
   "outputs": [
    {
     "name": "stdout",
     "output_type": "stream",
     "text": [
      "Epoch 1/20\n",
      " - 22s - loss: 0.0444 - acc: 0.9847\n",
      "Epoch 2/20\n",
      " - 3s - loss: 0.0117 - acc: 0.9961\n",
      "Epoch 3/20\n",
      " - 3s - loss: 0.0083 - acc: 0.9972\n",
      "Epoch 4/20\n",
      " - 3s - loss: 0.0068 - acc: 0.9977\n",
      "Epoch 5/20\n",
      " - 3s - loss: 0.0056 - acc: 0.9982\n",
      "Epoch 6/20\n",
      " - 3s - loss: 0.0047 - acc: 0.9984\n",
      "Epoch 7/20\n",
      " - 3s - loss: 0.0041 - acc: 0.9986\n",
      "Epoch 8/20\n",
      " - 3s - loss: 0.0036 - acc: 0.9988\n",
      "Epoch 9/20\n",
      " - 3s - loss: 0.0030 - acc: 0.9990\n",
      "Epoch 10/20\n",
      " - 3s - loss: 0.0029 - acc: 0.9990\n",
      "Epoch 11/20\n",
      " - 3s - loss: 0.0025 - acc: 0.9992\n",
      "Epoch 12/20\n",
      " - 3s - loss: 0.0021 - acc: 0.9993\n",
      "Epoch 13/20\n",
      " - 3s - loss: 0.0019 - acc: 0.9993\n",
      "Epoch 14/20\n",
      " - 3s - loss: 0.0018 - acc: 0.9994\n",
      "Epoch 15/20\n",
      " - 3s - loss: 0.0013 - acc: 0.9996\n",
      "Epoch 16/20\n",
      " - 3s - loss: 0.0012 - acc: 0.9996\n",
      "Epoch 17/20\n",
      " - 3s - loss: 0.0012 - acc: 0.9996\n",
      "Epoch 18/20\n",
      " - 3s - loss: 0.0013 - acc: 0.9996\n",
      "Epoch 19/20\n",
      " - 3s - loss: 0.0011 - acc: 0.9996\n",
      "Epoch 20/20\n",
      " - 3s - loss: 9.5882e-04 - acc: 0.9997\n"
     ]
    },
    {
     "data": {
      "text/plain": [
       "<keras.callbacks.History at 0x1514cbc6710>"
      ]
     },
     "execution_count": 5,
     "metadata": {},
     "output_type": "execute_result"
    }
   ],
   "source": [
    "# create model\n",
    "model = Sequential()\n",
    "model.add(Conv2D(32, (5, 5), input_shape=(28, 28, 1), activation='relu'))\n",
    "model.add(MaxPooling2D(pool_size=(2, 2)))\n",
    "model.add(Conv2D(64, (3, 3), input_shape=(28, 28, 1), activation='relu'))\n",
    "model.add(MaxPooling2D(pool_size=(2, 2)))\n",
    "model.add(Dropout(0.1))\n",
    "model.add(Flatten())\n",
    "model.add(Dense(128, activation='relu'))\n",
    "model.add(Dense(num_classes, activation='softmax'))\n",
    "# Compile model\n",
    "model.compile(loss='binary_crossentropy', optimizer='adam', metrics=['accuracy'])\n",
    "\n",
    "# Fit the model\n",
    "model.fit(train_images, train_labels, epochs=20, batch_size=250, verbose=2)"
   ]
  },
  {
   "cell_type": "code",
   "execution_count": 6,
   "metadata": {},
   "outputs": [
    {
     "name": "stdout",
     "output_type": "stream",
     "text": [
      "0.9922\n"
     ]
    }
   ],
   "source": [
    "# print(mnist_test_images[0])\n",
    "# print(train_images[0])\n",
    "i = 0\n",
    "percent = 0\n",
    "for test in mnist_test_images:\n",
    "    test = np.expand_dims(test, axis=0)\n",
    "    ans = model.predict(test).argmax()\n",
    "    if mnist_test_labels[i][ans] == 1:\n",
    "        percent = percent + 1\n",
    "    i = i + 1\n",
    "\n",
    "percent = percent / i\n",
    "print(percent)"
   ]
  },
  {
   "cell_type": "code",
   "execution_count": 7,
   "metadata": {},
   "outputs": [
    {
     "name": "stdout",
     "output_type": "stream",
     "text": [
      "Test loss: 0.00548984241322471\n",
      "Test accuracy: 0.9984399974822998\n"
     ]
    }
   ],
   "source": [
    "score = model.evaluate(mnist_test_images, mnist_test_labels, verbose=0)\n",
    "print('Test loss:', score[0])\n",
    "print('Test accuracy:', score[1])"
   ]
  },
  {
   "cell_type": "code",
   "execution_count": 9,
   "metadata": {},
   "outputs": [],
   "source": [
    "im = cv2.imread('plate_digit_text/27/006.png')\n",
    "# Convert to grayscale and apply Gaussian filtering\n",
    "im_gray = cv2.cvtColor(im, cv2.COLOR_BGR2GRAY)\n",
    "im_gray = cv2.GaussianBlur(im_gray, (5, 5), 0)       \n",
    "# Threshold the image\n",
    "ret, im_th = cv2.threshold(im_gray, 140, 255, cv2.THRESH_BINARY_INV)\n",
    "\n",
    "# Find contours in the image\n",
    "ima, ctrs, hier = cv2.findContours(im_th.copy(), cv2.RETR_TREE, cv2.CHAIN_APPROX_SIMPLE)\n",
    "cv2.drawContours(im, ctrs, -1, (173,213,0), 3)\n",
    "cv2.imshow('result', im)\n",
    "cv2.imshow('result1', im_th)\n",
    "cv2.waitKey()\n",
    "    \n",
    "if len(ctrs) > 0:\n",
    "    for contour in ctrs:\n",
    "        if ((cv2.contourArea(contour) > 800) and (cv2.contourArea(contour) < 2500)):\n",
    "            # Get rectangles contains each contour\n",
    "            rect = cv2.boundingRect(contour)\n",
    "            area = cv2.contourArea(contour)\n",
    "            print(area)\n",
    "            # Draw the rectangles\n",
    "            cv2.rectangle(im, (rect[0], rect[1]), (rect[0] + rect[2], rect[1] + rect[3]), (0, 255, 0), 3) \n",
    "            cv2.drawContours(im, contour, 0, (0,255,0), 3)\n",
    "#             Make the rectangular region around the digit\n",
    "            leng = int(rect[3] * 1.6)\n",
    "            pt1 = int(rect[1] + rect[3] // 2 - leng // 2)\n",
    "            pt2 = int(rect[0] + rect[2] // 2 - leng // 2)\n",
    "            roi = im_th[pt1:pt1+leng, pt2:pt2+leng]\n",
    "            # Resize the image\n",
    "            roi = cv2.resize(roi, (28, 28), interpolation=cv2.INTER_AREA)\n",
    "            roi = cv2.dilate(roi, (3, 3))\n",
    "            roi = np.array(roi)\n",
    "            roi = roi.astype('float32')\n",
    "            roi /= 255\n",
    "            \n",
    "            roi = roi.reshape(28,28,1)\n",
    "\n",
    "            roi = np.expand_dims(roi, axis=0)\n",
    "            predictions = model.predict(roi).argmax()\n",
    "            \n",
    "            cv2.putText(im, str(int(predictions)), (rect[0], rect[1]),cv2.FONT_HERSHEY_DUPLEX, 2, (0, 255, 255), 3)\n",
    "\n",
    "            print('answer: ',predictions)\n",
    "    cv2.imshow('result', im)\n",
    "    cv2.waitKey()"
   ]
  },
  {
   "cell_type": "code",
   "execution_count": null,
   "metadata": {},
   "outputs": [],
   "source": []
  },
  {
   "cell_type": "code",
   "execution_count": null,
   "metadata": {},
   "outputs": [],
   "source": []
  }
 ],
 "metadata": {
  "kernelspec": {
   "display_name": "Python 3",
   "language": "python",
   "name": "python3"
  },
  "language_info": {
   "codemirror_mode": {
    "name": "ipython",
    "version": 3
   },
   "file_extension": ".py",
   "mimetype": "text/x-python",
   "name": "python",
   "nbconvert_exporter": "python",
   "pygments_lexer": "ipython3",
   "version": "3.6.8"
  }
 },
 "nbformat": 4,
 "nbformat_minor": 2
}
