{
 "cells": [
  {
   "cell_type": "code",
   "execution_count": 1,
   "metadata": {},
   "outputs": [
    {
     "name": "stderr",
     "output_type": "stream",
     "text": [
      "Using TensorFlow backend.\n"
     ]
    }
   ],
   "source": [
    "import os\n",
    "import cv2\n",
    "import numpy as np\n",
    "import glob\n",
    "import matplotlib.pyplot as plt\n",
    "\n",
    "import h5py\n",
    "from keras.preprocessing.image import ImageDataGenerator\n",
    "from keras.models import Sequential, model_from_json\n",
    "from keras.layers.core import Dense, Dropout, Activation, Flatten\n",
    "from keras.layers.convolutional import Conv2D\n",
    "from keras.layers.pooling import MaxPooling2D\n",
    "\n",
    "from keras.optimizers import SGD"
   ]
  },
  {
   "cell_type": "code",
   "execution_count": 8,
   "metadata": {},
   "outputs": [],
   "source": [
    "size = 50\n",
    "NUM_CLASSES = 31"
   ]
  },
  {
   "cell_type": "code",
   "execution_count": 9,
   "metadata": {},
   "outputs": [],
   "source": [
    "def preprocess(img):\n",
    "    gray = cv2.cvtColor(img, cv2.COLOR_BGR2GRAY)\n",
    "    resized = cv2.resize(gray, (size, size), interpolation = cv2.INTER_AREA)\n",
    "    resized = resized.reshape(size, size, 1)\n",
    "#     print(resized.shape)\n",
    "#     plt.imshow(resized)\n",
    "    return resized"
   ]
  },
  {
   "cell_type": "code",
   "execution_count": 10,
   "metadata": {},
   "outputs": [],
   "source": [
    "def get_class(img_path):\n",
    "    try:\n",
    "#         print(img_path.split('\\\\')[-2])\n",
    "        return int(img_path.split('\\\\')[-2])\n",
    "    except Exception as e:\n",
    "#         print(ord(img_path.split('\\\\')[-2]))\n",
    "        return ord(img_path.split('\\\\')[-2]) - 55"
   ]
  },
  {
   "cell_type": "code",
   "execution_count": 11,
   "metadata": {},
   "outputs": [],
   "source": [
    "try:\n",
    "    with h5py.File('XCNN.h5') as hf: \n",
    "        X, Y = hf['imgs'][:], hf['labels'][:]\n",
    "    print(\"Loaded images from X.h5\")\n",
    "    \n",
    "except Exception as e:\n",
    "    root_dir = 'plate_digit_text/'\n",
    "    imgs = []\n",
    "    labels = []\n",
    "    all_img_paths = glob.glob(os.path.join(root_dir, '*/*.png'))\n",
    "    for img_path in all_img_paths:\n",
    "    #     print(img_path)\n",
    "    #     print(get_class(img_path))\n",
    "        img = preprocess(cv2.imread(img_path))\n",
    "        imgs.append(img)\n",
    "#         print(img.shape[0])\n",
    "        labels.append(get_class(img_path))\n",
    "    #     break\n",
    "    \n",
    "    X = np.array(imgs, dtype='float32')\n",
    "    Y = np.eye(NUM_CLASSES, dtype='uint8')[labels]\n",
    "    with h5py.File('XCNN.h5','w') as hf:\n",
    "        hf.create_dataset('imgs', data=X)\n",
    "        hf.create_dataset('labels', data=Y)"
   ]
  },
  {
   "cell_type": "code",
   "execution_count": 21,
   "metadata": {},
   "outputs": [],
   "source": [
    "def cnn_model():\n",
    "    model = Sequential()\n",
    "\n",
    "    model.add(Conv2D(32, (3, 3), padding='same',\n",
    "                     input_shape=(size, size, 1),\n",
    "                     activation='relu'))\n",
    "    model.add(Conv2D(32, (3, 3), activation='relu'))\n",
    "    model.add(MaxPooling2D(pool_size=(2, 2)))\n",
    "#     model.add(Dropout(0.2))\n",
    "\n",
    "    model.add(Conv2D(64, (3, 3), padding='same',\n",
    "                     activation='relu'))\n",
    "    model.add(Conv2D(64, (3, 3), activation='relu'))\n",
    "    model.add(MaxPooling2D(pool_size=(2, 2)))\n",
    "#     model.add(Dropout(0.2))\n",
    "    model.add(MaxPooling2D(pool_size=(2, 2)))\n",
    "    model.add(Conv2D(128, (3, 3), padding='same',\n",
    "                     activation='relu'))\n",
    "    model.add(Conv2D(128, (3, 3), activation='relu'))\n",
    "    model.add(MaxPooling2D(pool_size=(2, 2)))\n",
    "#     model.add(Dropout(0.2))\n",
    "\n",
    "    model.add(Flatten())\n",
    "    model.add(Dense(512, activation='relu'))\n",
    "#     model.add(Dropout(0.5))\n",
    "    model.add(Dense(256, activation='relu'))\n",
    "    model.add(Dense(128, activation='relu'))\n",
    "    model.add(Dense(64, activation='relu'))\n",
    "    model.add(Dense(NUM_CLASSES, activation='softmax'))\n",
    "    return model\n",
    "\n",
    "model = cnn_model()\n",
    "# let's train the model using SGD + momentum (how original).\n",
    "lr = 0.01\n",
    "sgd = SGD(lr=lr, decay=1e-6, momentum=0.9, nesterov=True)\n",
    "model.compile(loss='categorical_crossentropy', \n",
    "              optimizer=sgd, \n",
    "              metrics=['accuracy'])"
   ]
  },
  {
   "cell_type": "markdown",
   "metadata": {},
   "source": [
    "# Start training"
   ]
  },
  {
   "cell_type": "code",
   "execution_count": 22,
   "metadata": {},
   "outputs": [
    {
     "name": "stdout",
     "output_type": "stream",
     "text": [
      "Epoch 1/30\n",
      "271/271 [==============================] - 1s 3ms/step - loss: 4.9638 - acc: 0.0185\n",
      "Epoch 2/30\n",
      "271/271 [==============================] - 0s 561us/step - loss: 3.4353 - acc: 0.0332\n",
      "Epoch 3/30\n",
      "271/271 [==============================] - 0s 545us/step - loss: 3.4313 - acc: 0.0148\n",
      "Epoch 4/30\n",
      "271/271 [==============================] - 0s 541us/step - loss: 3.4327 - acc: 0.0443\n",
      "Epoch 5/30\n",
      "271/271 [==============================] - 0s 525us/step - loss: 3.4292 - acc: 0.0627\n",
      "Epoch 6/30\n",
      "271/271 [==============================] - 0s 539us/step - loss: 3.4274 - acc: 0.0480\n",
      "Epoch 7/30\n",
      "271/271 [==============================] - 0s 537us/step - loss: 3.4266 - acc: 0.0369\n",
      "Epoch 8/30\n",
      "271/271 [==============================] - 0s 545us/step - loss: 3.4246 - acc: 0.0480\n",
      "Epoch 9/30\n",
      "271/271 [==============================] - 0s 548us/step - loss: 3.4242 - acc: 0.0480\n",
      "Epoch 10/30\n",
      "271/271 [==============================] - 0s 548us/step - loss: 3.4236 - acc: 0.0406\n",
      "Epoch 11/30\n",
      "271/271 [==============================] - 0s 541us/step - loss: 3.4218 - acc: 0.0480\n",
      "Epoch 12/30\n",
      "271/271 [==============================] - 0s 545us/step - loss: 3.4204 - acc: 0.0406\n",
      "Epoch 13/30\n",
      "271/271 [==============================] - 0s 541us/step - loss: 3.4199 - acc: 0.0406\n",
      "Epoch 14/30\n",
      "271/271 [==============================] - 0s 537us/step - loss: 3.4198 - acc: 0.0185\n",
      "Epoch 15/30\n",
      "271/271 [==============================] - 0s 542us/step - loss: 3.4194 - acc: 0.0590\n",
      "Epoch 16/30\n",
      "271/271 [==============================] - 0s 552us/step - loss: 3.4172 - acc: 0.0443\n",
      "Epoch 17/30\n",
      "271/271 [==============================] - 0s 541us/step - loss: 3.4173 - acc: 0.0295\n",
      "Epoch 18/30\n",
      "271/271 [==============================] - 0s 545us/step - loss: 3.4122 - acc: 0.0369\n",
      "Epoch 19/30\n",
      "271/271 [==============================] - 0s 552us/step - loss: 3.4164 - acc: 0.0406\n",
      "Epoch 20/30\n",
      "271/271 [==============================] - 0s 541us/step - loss: 3.4149 - acc: 0.0369\n",
      "Epoch 21/30\n",
      "271/271 [==============================] - 0s 556us/step - loss: 3.4144 - acc: 0.0332\n",
      "Epoch 22/30\n",
      "271/271 [==============================] - 0s 569us/step - loss: 3.4108 - acc: 0.0627\n",
      "Epoch 23/30\n",
      "271/271 [==============================] - 0s 539us/step - loss: 3.4096 - acc: 0.0480\n",
      "Epoch 24/30\n",
      "271/271 [==============================] - 0s 545us/step - loss: 3.4056 - acc: 0.0406\n",
      "Epoch 25/30\n",
      "271/271 [==============================] - 0s 529us/step - loss: 3.4104 - acc: 0.0258\n",
      "Epoch 26/30\n",
      "271/271 [==============================] - 0s 560us/step - loss: 3.4089 - acc: 0.0332\n",
      "Epoch 27/30\n",
      "271/271 [==============================] - 0s 546us/step - loss: 3.4103 - acc: 0.0406\n",
      "Epoch 28/30\n",
      "271/271 [==============================] - 0s 541us/step - loss: 3.4043 - acc: 0.0554\n",
      "Epoch 29/30\n",
      "271/271 [==============================] - 0s 545us/step - loss: 3.4004 - acc: 0.0443\n",
      "Epoch 30/30\n",
      "271/271 [==============================] - 0s 548us/step - loss: 3.4026 - acc: 0.0480\n"
     ]
    },
    {
     "data": {
      "text/plain": [
       "<keras.callbacks.History at 0x20030f38208>"
      ]
     },
     "execution_count": 22,
     "metadata": {},
     "output_type": "execute_result"
    }
   ],
   "source": [
    "batch_size = 32\n",
    "nb_epoch = 30\n",
    "\n",
    "model.fit(X, Y, batch_size=batch_size, epochs=nb_epoch)"
   ]
  },
  {
   "cell_type": "code",
   "execution_count": 28,
   "metadata": {},
   "outputs": [
    {
     "name": "stdout",
     "output_type": "stream",
     "text": [
      "5\n"
     ]
    },
    {
     "data": {
      "image/png": "[encoded data removed]",
      "text/plain": [
       "<Figure size 432x288 with 1 Axes>"
      ]
     },
     "metadata": {
      "needs_background": "light"
     },
     "output_type": "display_data"
    }
   ],
   "source": [
    "test_img = cv2.imread('plate_digit_text_test/29/001.png')\n",
    "plt.imshow(test_img)\n",
    "test_img = preprocess(test_img)\n",
    "test_img = np.expand_dims(test_img, axis=0)\n",
    "print(model.predict(test_img).argmax())"
   ]
  },
  {
   "cell_type": "code",
   "execution_count": null,
   "metadata": {},
   "outputs": [],
   "source": []
  }
 ],
 "metadata": {
  "kernelspec": {
   "display_name": "Python 3",
   "language": "python",
   "name": "python3"
  },
  "language_info": {
   "codemirror_mode": {
    "name": "ipython",
    "version": 3
   },
   "file_extension": ".py",
   "mimetype": "text/x-python",
   "name": "python",
   "nbconvert_exporter": "python",
   "pygments_lexer": "ipython3",
   "version": "3.6.8"
  }
 },
 "nbformat": 4,
 "nbformat_minor": 2
}
