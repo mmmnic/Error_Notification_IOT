{
 "cells": [
  {
   "cell_type": "code",
   "execution_count": 4,
   "metadata": {},
   "outputs": [],
   "source": [
    "import cv2\n",
    "import os\n",
    "import numpy as np\n",
    "import glob"
   ]
  },
  {
   "cell_type": "code",
   "execution_count": null,
   "metadata": {},
   "outputs": [],
   "source": [
    "root_dir = 'plate_digit_text/'\n",
    "all_img_paths = glob.glob(os.path.join(root_dir, '*/*.png'))\n",
    "for img_path in all_img_paths:\n",
    "    try:\n",
    "        im = cv2.imread(img_path)\n",
    "        # Convert to grayscale and apply Gaussian filtering\n",
    "        im_gray = cv2.cvtColor(im, cv2.COLOR_BGR2GRAY)\n",
    "#         im_gray = cv2.GaussianBlur(im_gray, (5, 5), 0)\n",
    "\n",
    "        # Threshold the image\n",
    "        ret, im_th = cv2.threshold(im_gray, 200, 255, cv2.THRESH_BINARY_INV)\n",
    "\n",
    "#         plt.imshow(im_th)\n",
    "        cv2.imshow('test', im_th)\n",
    "        cv2.waitKey()\n",
    "\n",
    "        # Find contours in the image\n",
    "        ima, ctrs, hier = cv2.findContours(im_th.copy(), cv2.RETR_TREE, cv2.CHAIN_APPROX_SIMPLE)\n",
    "        if len(ctrs) > 0:\n",
    "            for contour in ctrs:\n",
    "                rect = cv2.boundingRect(contour)\n",
    "                leng = int(rect[3] * 1.6)\n",
    "                pt1 = int(rect[1] + rect[3] // 2 - leng // 2)\n",
    "                pt2 = int(rect[0] + rect[2] // 2 - leng // 2)\n",
    "                roi_origin = im[pt1:pt1+leng, pt2:pt2+leng]\n",
    "#                 print(img_path[0:len(img_path) - 4] + '_bis.PNG')\n",
    "                cv2.imwrite(img_path[0:len(img_path) - 4] + '_bis.PNG', roi_origin)\n",
    "    except Exception as e:\n",
    "        print(e)\n",
    "    \n",
    "print('extraction done')"
   ]
  },
  {
   "cell_type": "code",
   "execution_count": null,
   "metadata": {},
   "outputs": [],
   "source": []
  }
 ],
 "metadata": {
  "kernelspec": {
   "display_name": "Python 3",
   "language": "python",
   "name": "python3"
  },
  "language_info": {
   "codemirror_mode": {
    "name": "ipython",
    "version": 3
   },
   "file_extension": ".py",
   "mimetype": "text/x-python",
   "name": "python",
   "nbconvert_exporter": "python",
   "pygments_lexer": "ipython3",
   "version": "3.6.8"
  }
 },
 "nbformat": 4,
 "nbformat_minor": 2
}
