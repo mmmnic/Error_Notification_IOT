{
 "cells": [
  {
   "cell_type": "code",
   "execution_count": 29,
   "metadata": {},
   "outputs": [],
   "source": [
    "import os\n",
    "import cv2\n",
    "import numpy as np\n",
    "import glob\n",
    "import matplotlib.pyplot as plt\n",
    "\n",
    "import h5py\n",
    "from skimage.feature import hog"
   ]
  },
  {
   "cell_type": "code",
   "execution_count": 30,
   "metadata": {},
   "outputs": [],
   "source": [
    "size = 50\n",
    "NUM_CLASSES = 31"
   ]
  },
  {
   "cell_type": "code",
   "execution_count": 35,
   "metadata": {},
   "outputs": [],
   "source": [
    "def preprocess(img):\n",
    "    ppc = 7\n",
    "    resized = cv2.resize(img, (size + 0, size), interpolation = cv2.INTER_AREA)\n",
    "#     fd,hog_image = hog(resized, orientations=8, pixels_per_cell=(ppc,ppc),cells_per_block=(4, 4),block_norm= 'L2',visualise=True)\n",
    "    gray = cv2.cvtColor(resized, cv2.COLOR_BGR2GRAY)\n",
    "    gray = cv2.dilate(gray, (3, 3))\n",
    "#     resized = resized.reshape(size, size, 1)\n",
    "    res = gray.reshape((size + 0) * size)\n",
    "#     print(res.shape)\n",
    "#     print(resized.shape)\n",
    "#     plt.imshow(resized)\n",
    "    return res"
   ]
  },
  {
   "cell_type": "code",
   "execution_count": 53,
   "metadata": {},
   "outputs": [],
   "source": [
    "def get_class(img_path):\n",
    "    try:\n",
    "#         print(img_path.split('\\\\')[-2])\n",
    "        return int(img_path.split('\\\\')[-2])\n",
    "    except Exception as e:\n",
    "#         print(ord(img_path.split('\\\\')[-2]))\n",
    "        return ord(img_path.split('\\\\')[-2]) - 55"
   ]
  },
  {
   "cell_type": "code",
   "execution_count": 54,
   "metadata": {},
   "outputs": [
    {
     "name": "stdout",
     "output_type": "stream",
     "text": [
      "Get Data Complete\n"
     ]
    }
   ],
   "source": [
    "try:\n",
    "    with h5py.File('X.h5') as hf: \n",
    "        X, Y = hf['imgs'][:], hf['labels'][:]\n",
    "    print(\"Loaded images from X.h5\")\n",
    "    \n",
    "except Exception as e:\n",
    "    root_dir = 'new_data/'\n",
    "    imgs = []\n",
    "    labels = []\n",
    "    all_img_paths = glob.glob(os.path.join(root_dir, '*/*.png'))\n",
    "    for img_path in all_img_paths:\n",
    "        try:\n",
    "#             print(img_path)\n",
    "#             print(get_class(img_path))\n",
    "            img = preprocess(cv2.imread(img_path))\n",
    "            imgs.append(img)\n",
    "#             print(img.shape[0])\n",
    "            labels.append(get_class(img_path))\n",
    "        except Exception as e:\n",
    "            print(e)\n",
    "    \n",
    "    X = np.array(imgs, dtype='float32')\n",
    "    Y = np.array(labels, dtype ='uint8')\n",
    "#     Y = np.eye(NUM_CLASSES, dtype='uint8')[labels]\n",
    "    with h5py.File('X.h5','w') as hf:\n",
    "        hf.create_dataset('imgs', data=X)\n",
    "        hf.create_dataset('labels', data=Y)\n",
    "    \n",
    "    print(\"Get Data Complete\")"
   ]
  },
  {
   "cell_type": "code",
   "execution_count": 55,
   "metadata": {},
   "outputs": [
    {
     "name": "stdout",
     "output_type": "stream",
     "text": [
      "(287, 2500)\n",
      "(287,)\n"
     ]
    }
   ],
   "source": [
    "print(X.shape)\n",
    "print(Y.shape)"
   ]
  },
  {
   "cell_type": "markdown",
   "metadata": {},
   "source": [
    "# Read test data"
   ]
  },
  {
   "cell_type": "code",
   "execution_count": 56,
   "metadata": {},
   "outputs": [],
   "source": [
    "root_dir = 'plate_digit_text_test/'\n",
    "imgs_test = []\n",
    "labels_test = []\n",
    "all_img_paths = glob.glob(os.path.join(root_dir, '*/*.png'))\n",
    "for img_path in all_img_paths:\n",
    "#         print(img_path)\n",
    "#     print(get_class(img_path))\n",
    "    img = preprocess(cv2.imread(img_path))\n",
    "    imgs_test.append(img)\n",
    "#         print(img.shape[0])\n",
    "    labels_test.append(get_class(img_path))\n",
    "#     break\n",
    "\n",
    "X_test = np.array(imgs_test, dtype='float32')\n",
    "Y_test = np.array(labels_test, dtype ='uint8')"
   ]
  },
  {
   "cell_type": "code",
   "execution_count": 58,
   "metadata": {},
   "outputs": [
    {
     "name": "stdout",
     "output_type": "stream",
     "text": [
      "[13  0 13  0 25  1 25  1 10 13 11 13 11 12 12 13 13 14 14 14 15 15 14 13\n",
      " 12 17 17 21 17 18 18 18 12 12  2  2  2  2 20 20 21 21 13 22 22 15 15 22\n",
      " 22 13 23 13 23 24 24 25 25 13 13 12 13 13 27 27 27 27 28 30  3  3  3  3\n",
      "  3  3  3  4  4  4 24  5  5  5  5  5 16 12  6  6  7  7  7 13  8 13  8 13\n",
      "  9  9  9]\n",
      "1   0.7070707070707071\n",
      "[13  0 11  0 25  1 25  1 10 13  8 13  8 12 12 13 13 14 14 14 12 15 14 13\n",
      " 12 13 17 17 17 18 18 18 12 12  2  2  2  2 20 20 13 13 13 22 22 15 15 22\n",
      " 22 13 23 13 23 24 24 25 25 13 13 12 13 13 27 27 27 27 28 28  3  3  3  3\n",
      "  3  3  3  4  4  4 24  5  5  5  5  5  6 12  6  6  7  7  7 13  8 13  8 13\n",
      "  9  9  9]\n",
      "2   0.6666666666666666\n",
      "[13  0 13  0 25  1 25  1 10 13 11 13 11 12 12 13 13 13 14 14 12 15 12 13\n",
      " 13 17 17 17 17 18 18 18 12 12  2  2  2  2 20 20 13 13 13 22 22 26 26 22\n",
      " 22 13 23 13 23 24 24 25 25 13 13 12 13 13 27 27 27 27 28 28  3  3  3  3\n",
      "  3  3  3  4  4  4 24  5  5  5  5  5  6 12  6  6  7  7  7 13  8 13  8 13\n",
      " 11  8  9]\n",
      "3   0.6666666666666666\n",
      "[13  0 13  0 25  1 25  1 10 13 11 13 11 12 12 13 13 14 14 14 15 15 15 13\n",
      " 13 17 17 17 17 18 18 18 12 12  2  2  2  2 20 20 13 13 23 22 22 26 26 22\n",
      " 22 13 23 13 23 24 24 25 25 13 13 13 13 13 27 27 27 27 28 28  3  3  3  3\n",
      "  3  3  3  4  4  4 24  5  5  5  5  5  6 13  6  6  7  7  7 13  8 13  8 13\n",
      " 11 11  9]\n",
      "4   0.696969696969697\n",
      "[13  0 13  0 25  1 25  1 10 13 11 13 11 12 12 13 13 14 14 14 15 15 15 13\n",
      " 13 17 17 17 17 18 18 18 12 12  2  2  2  2 20 20 13 13 13 22 22 26 26 22\n",
      " 22 13 23 13 23 24 24 25 25 13 13 13 13 13 27 27 27 27 28 28  3  3  3  3\n",
      "  3  3  3  4  4  4 24  5  5  5  5  5  6 12  6  6  7  7  7 13  8 13 11 13\n",
      " 11  8  9]\n",
      "5   0.6868686868686869\n",
      "[13  0 13  0 25  1 25  1 10 13 11 13 11 12 12 13 13 14 14 14 15 15 15 13\n",
      " 13 17 17 17 17 18 18 18 12 12  2  2  2  2 20 20 13 13 13 22 22 26 26 22\n",
      " 22 13 23 13 23 24 24 25 25 13 13 13 13 13 27 27 28 27 28 28  3  3  3  3\n",
      "  3  3  3  4  4  4 24  5  5  5  5  5  6 12  6  6  7  7  7 13  8 13  8 13\n",
      " 11  8  9]\n",
      "6   0.6868686868686869\n",
      "[13 13 13  0 25  1 25  1 10 13 11 13 11 12 12 13 13 12 14 14 15 15 15 12\n",
      " 12 17 17 17 17 18 18 18 18 12  2  2  2  2 20 20 13 13 13 22 22 27 27 22\n",
      " 22 13 23 13 23 24 24 25 25 13 13 13 13 13 27 27 27 27 28 27  3  3  3  3\n",
      "  3  3  3  4  4  4 24  5  5  5  5  5  6 12  6  6  7  7  7 13  8 13  8 13\n",
      " 11  8  9]\n",
      "7   0.6767676767676768\n",
      "[13 13 13  0 25  1 25  1 10 13 11 13 11 12 12 13 13 15 14 14 15 15 15 12\n",
      " 12 17 17 17 17 18 18 18 12 12  2  2  2  2 20 20 13 21 13 22 22 27 27 22\n",
      " 22 13 23 13 23 24 24 25 25 13 13 13 13 13 27 27 27 27 28 27  3  3  3  3\n",
      "  3  3  3  4  4  4 24  5  5  5  5  5  6 12  6  6  7  7  7 11  8 13  8 13\n",
      "  9  8  9]\n",
      "8   0.696969696969697\n",
      "[13  0 13 13 25  1 25  1 10 13 11 13 11 12 12 13 13 15 14 14 15 15 15 12\n",
      " 12 17 17 17 17 18 18 18 12 12  2  2  2  2 20 20 21 21 13 22 22 27 27 22\n",
      " 22 13 23 13 23 24 24 25 25 13 13 13 13 13 27 27 27 27 28 27  3  3  3  3\n",
      "  3  3  3  4  4  4 24  5  5  5  5  5  6 12  6  6  7  7  7 11 11 13  8 13\n",
      "  9 11  9]\n",
      "9   0.696969696969697\n",
      "[13  0 13 13 25  1 25  1 10 13 11 13 11 12 12 13 13 15 14 14 15 15 15 12\n",
      " 12 17 17 17 17 18 18 18 12 12  2  2  2  2 20 20 21 21 13 22 22 27 27 22\n",
      " 22 13 23 13 23 24 24 25 25 13 13 13 13 13 27 27 27 27 28 27  3  3  3  3\n",
      "  3  3  3  4  4  4 24  5  5  5  5  5  6 12  6  6  7  7  7 11 11 13  8 23\n",
      "  9 11  9]\n",
      "10   0.696969696969697\n",
      "[13  0 13 13 25  1 25  1 10 13 11 13 11 12 12 13 13 15 14 14 15 15 15 12\n",
      " 12 17 17 17 17 18 18 18 12 12  2  2  2  2 20 20 21 21 21 22 22 27 27 22\n",
      " 22 13 23 13 23 24 24 25 25 13 13 13 13 13 27 27 27 27 28 27  3  3  3  3\n",
      "  3  3  3  4  4  4 24  5  5  5  5  5  6 13  6  6  7  7  7 13 11 13  8 23\n",
      "  9  9  9]\n",
      "11   0.7171717171717171\n",
      "[13  0 13 13 25  1 25  1 10 13 11 13 11 12 12 13 13 15 14 14 15 15 15 12\n",
      " 12 17 17 17 17 18 18 18 12 12  2  2  2  2 20 20 21 21 21 22 22 27 27 22\n",
      " 22 18 23 13 23 24 24 25 25 23 13 13 13 13 27 27 27 27 28 27  3  3  3  3\n",
      "  3  3  3  4  4  4 24  5  5  5  5  5  6 12  6  6  7  7  7 13  8 13 11 23\n",
      " 11 11  9]\n",
      "12   0.696969696969697\n",
      "[13  0 13 13 25  1 25  1 10 11 11 13 11 12 12 13 13 15 14 14 15 15 15 12\n",
      " 12 17 17 17 17 18 18 18 12 12  2  2  2  2 20 20 21 21 21 22 22 27 27 22\n",
      " 22 18 23 18 23 24 24 25 25 23 13 13 13 13 27 27 27 27 28 27  3  3  3  3\n",
      "  3  3  3  4  4  4 24  5  5  5  5  5  6 12  6  6  7  7  7 13  8 13 11 23\n",
      " 11 11  9]\n",
      "13   0.7070707070707071\n",
      "[13  0 13  0 25  1 25  1 10 11 11 13 11 12 12 13 13 15 14 12 15 15 15 12\n",
      " 12 17 17 17 17 18 18 18 12 12  2  2  2  2 20 20 21 21 21 22 22 27 27 22\n",
      " 22 18 23 18 23 24 24 25  7 23 13 13 13 13 27 27 27 27 28 27  3  3  3  3\n",
      "  3  3  3  4  4  4 24  5  5  5  5  5  6 12  6  6  7  7  7 11  8 13 11 13\n",
      " 11 11  9]\n",
      "14   0.696969696969697\n",
      "[13  0 13  0 25  1 25  1 10 11 11 13 11 12 12 13 13 15 14 12 15 15 15 12\n",
      " 12 17 17 17 17 18 18 18 12 12  2  2  2  2 20 20 21 21 21 22 22 27 27 22\n",
      " 22 18 23 18 23 24 24 25  7 23 13 13 13 13 27 27 27 27 28 27  3  3  3  3\n",
      "  3  3  3  4  4  4 24  5  5  5  5  5  6 12  6  6  7  7  7 11 11 13 11 13\n",
      " 11 11  9]\n",
      "15   0.6868686868686869\n",
      "[13  0 13  0 25  1 25  1 10 11 11 13 11 12 12 13 13 15 14 12 15 15 15 12\n",
      " 12 17 17 17 17 18 18 18 18 12  2  2  2  2 20 20 21 21 21 22 22 27 27 22\n",
      " 22 18 23 18 23 24 24 25  7 23 13 13 13 13 27 27 27 27 28 27  3  3  3  3\n",
      "  3  3  3  4  4  4 24  5  5  5  5  5  6 12  6  6  7  7  2 11  8 13 11 13\n",
      " 11 11  9]\n",
      "16   0.6868686868686869\n",
      "[13  0 13  0 25  1 25  1 10 11 11 13 11 12 12 13 13 15 14 12 15 15 15 12\n",
      " 12 17 17 17 17 18 18 18 18 12  2  2  2  2 20 20 21 21 21 22 22 27 27 22\n",
      " 22 18 23 18 23 24 24 25  7 23 13 13 13 13 27 27 27 27 28 27  3  3  3  3\n",
      "  3  3  3  4  4  4 24  5  5  5  5  5  6 12  6  6  7  7  2 13  8 13 11 13\n",
      " 11 11  9]\n",
      "17   0.6868686868686869\n",
      "[13  0 13  0 25  1 25  1 10 11 11 13 11 12 12 13 13 15 14 15 15 15 15 12\n",
      " 12 17 17 17 17 18 18 18 12 12  2  2  2  2 20 20 21 21 21 22 22 27 27 22\n",
      " 22 18 23 18 23 24 24 25  7 23 13 13 13 13 27 27 27 27 28 27  3  3  3  3\n",
      "  3  3  3  4  4  4 24  5  5  5  5  5  6 12  6  6  7  7  2 13 11 13 11 13\n",
      " 11 11  9]\n",
      "18   0.6767676767676768\n",
      "[13  0 13  0 25  1 25  1 10 11 11 11 11 12 12 13 13 15 14 15 15 15 15 12\n",
      " 12 23 17 17 17 18 18 18 12 12  2  2  2  2 20 20 21 21 21 22 22 27 27 22\n",
      " 22 18 23 18 23 24 24 25  7 13 13 13 13 13 27 27 27 27 28 27  3  3  3  3\n",
      "  3  3  3  4  4  4 24 24  5  5  5  5  6 12  6  6  7  7  2 13  8 13 11 13\n",
      " 11 11  9]\n",
      "19   0.6767676767676768\n",
      "[13  0 13  0 25  1 25  1 10 11 11 11 11 12 12 13 13 15 14 15 15 15 15 12\n",
      " 12 23 17 17 17 18 18 18 18 12  2  2  2  2 20 20 21 21 21 22 22 27 27 22\n",
      " 22 13 23 18 23 24 24 25  7 13 13 13 13 13 27 27 27 27 28 27  3  3  3  3\n",
      "  3  3  3  4  4  4 24 24  5  5  5  5  6 13  6  6  7  2  2 13  8 13 11 13\n",
      " 11 11  9]\n",
      "20   0.6666666666666666\n",
      "[13  0 13  0 25  1 25  1 10 11 11 13 11 12 12 13 13 15 14 15 15 15 15 12\n",
      " 12 17 17 17 17 18 18 18 18 12  2  2  2  2 20 20 21 21 21 22 22 27 27 22\n",
      " 22 18 23 18 23 24 24 25  7 13 13 13 13 13 27 27 27 27 28 27  3  3  3  3\n",
      "  3  3  3  4  4  4 24 24  5  5  5  5  6 13  6  6  7  2  2 13  8 13 11 13\n",
      " 11  8  9]\n",
      "21   0.6666666666666666\n",
      "[13  0 13  0 25  1 25  1 10 11 11 13 11 12 12 13 13 15 14 15 15 15 15 12\n",
      " 12 17 17 17 17 18 18 18 12 12  2  2  2  2 20 20 21 21 21 22 22 27 27 22\n",
      " 22 18 23 18 23 24 24 25  7 13 13 13 13 13 27 27 27 27 28 27  3  3  3  3\n",
      "  3  3  3  4  4  4 24 24  5  5  5  5  6 13  6  6  7  2  2 13  8 13 11 13\n",
      " 11  8  9]\n",
      "22   0.6666666666666666\n",
      "[13  0 13  0 25  1 25  1 10 11 11 13 11 12 12 13 13 15 14 15 15 15 15 12\n",
      " 12 17 17 17 17 18 18 18 18 12  2  2  2  2 20 20 21 21 21 22 22 27 27 22\n",
      " 22 18 23 18 23 24 24 25  7 13 13 13 13 13 27 27 27 27 28 27  3  3  3  3\n",
      "  3  3  3  4  4  4 24 24  5  5  5  5  6 13  6  6  7  2  2 13  8 13 11 13\n",
      " 11  8  9]\n",
      "23   0.6666666666666666\n",
      "[13  0 13  0 25  1 25  1 10 11 11 13 11 12 12 13 13 15 14 15 15 15 15 12\n",
      " 12 17 17 17 17 18 18 18 18 12  2  2  2  2 20 20 21 21 21 22 22 27 27 22\n",
      " 22 18 23 18 23 24 24 25  7 13 13 13 23 13 27 27 27 27 28 27  3  3  3  3\n",
      "  3  3  3  4  4  4 24 24  5  5  5  5  6 12  6  6  2  2  2 13  8 13 11 13\n",
      "  8 11  9]\n",
      "24   0.6565656565656566\n",
      "[13  0 13  0 25  1 25  1 10 11 11 13 11 12 12 13 13 15 14 15 15 15 15 12\n",
      " 12 17 17 17 17 18 18 18 18 12  2  2  2  2 20 20 21 21 21 22 22 27 27 22\n",
      " 22 18 23 18 23 24 24  7  7 13 13 13 23 13 27 27 27 27 28 27  3  3  3  3\n",
      "  3  3  3  4  4  4 24  5  5  5  5  5  6 12  6  6  2  2  7 13  8 13  8 24\n",
      " 11  8  9]\n",
      "25   0.6767676767676768\n"
     ]
    },
    {
     "data": {
      "image/png": "[encoded data removed]",
      "text/plain": [
       "<Figure size 432x288 with 1 Axes>"
      ]
     },
     "metadata": {
      "needs_background": "light"
     },
     "output_type": "display_data"
    }
   ],
   "source": [
    "from sklearn.neighbors import KNeighborsClassifier\n",
    "from sklearn import metrics\n",
    "import pickle\n",
    "\n",
    "test_img = cv2.imread('plate_digit_text_test/26/002.png')\n",
    "plt.imshow(test_img)\n",
    "test_img = preprocess(test_img)\n",
    "test_array = []\n",
    "test_array.append(test_img)\n",
    "\n",
    "# print(test_array)\n",
    "# print(X_test)\n",
    "\n",
    "k_range = range(1,26)\n",
    "k = 20\n",
    "scores = {}\n",
    "scores_list = []\n",
    "\n",
    "##### Best K is 11 \n",
    "knn = KNeighborsClassifier(n_neighbors=11)\n",
    "knn.fit(X, Y)\n",
    "filename = 'finalized_model.sav'\n",
    "pickle.dump(knn, open(filename, 'wb'))\n",
    "\n",
    "\n",
    "for k in k_range:\n",
    "    knn = KNeighborsClassifier(n_neighbors=k)\n",
    "    knn.fit(X, Y)\n",
    "    y_pred = knn.predict(X_test)\n",
    "    print(y_pred)\n",
    "    print(k, \" \", metrics.accuracy_score(Y_test, y_pred))"
   ]
  },
  {
   "cell_type": "code",
   "execution_count": 65,
   "metadata": {},
   "outputs": [
    {
     "name": "stdout",
     "output_type": "stream",
     "text": [
      "[13]\n"
     ]
    }
   ],
   "source": [
    "test_img = cv2.imread('plate_digit_text_test/0/001.png')\n",
    "test_img = preprocess(test_img)\n",
    "test_array = []\n",
    "test_array.append(test_img)\n",
    "print(knn.predict(test_array))"
   ]
  },
  {
   "cell_type": "code",
   "execution_count": null,
   "metadata": {},
   "outputs": [],
   "source": []
  }
 ],
 "metadata": {
  "kernelspec": {
   "display_name": "Python 3",
   "language": "python",
   "name": "python3"
  },
  "language_info": {
   "codemirror_mode": {
    "name": "ipython",
    "version": 3
   },
   "file_extension": ".py",
   "mimetype": "text/x-python",
   "name": "python",
   "nbconvert_exporter": "python",
   "pygments_lexer": "ipython3",
   "version": "3.6.8"
  }
 },
 "nbformat": 4,
 "nbformat_minor": 2
}
