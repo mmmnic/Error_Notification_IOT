{
 "cells": [
  {
   "cell_type": "code",
   "execution_count": 1,
   "metadata": {},
   "outputs": [],
   "source": [
    "from sklearn import svm\n",
    "from sklearn.externals import joblib\n",
    "from sklearn import metrics\n",
    "import numpy as np\n",
    "import os\n",
    "import sys"
   ]
  },
  {
   "cell_type": "code",
   "execution_count": 2,
   "metadata": {},
   "outputs": [],
   "source": [
    "def load_features(src):\n",
    "    print(\"[+] Load data....\")\n",
    "    data = []\n",
    "    label = []\n",
    "    with open(src, \"r\") as file:\n",
    "        for i,line in enumerate(file):\n",
    "            img_path = line[:-1]\n",
    "            #print(\"[+] Read image  : \", img_path,\" id : \", i)\n",
    "            if os.path.isfile(img_path) and img_path.find(\".jpg\") != -1:            \n",
    "                save_path = img_path.replace(\"images\", \"features\").replace(\".jpg\", \".npy\")        \n",
    "                if os.path.isfile(save_path):\n",
    "                    lb = save_path.split(\"/\")[1]\n",
    "                    # lb1 = lb.split(\".\")[1]\n",
    "                    # print (lb)\n",
    "                    # print(save_path)\n",
    "                    data.append(np.load(save_path))\n",
    "                    label.append(lb)\n",
    "    print(\"[+] Load data finished\")\n",
    "    return data, label"
   ]
  },
  {
   "cell_type": "code",
   "execution_count": 3,
   "metadata": {},
   "outputs": [],
   "source": [
    "def save_model(model, name, db):\n",
    "    if not os.path.exists(db):\n",
    "        os.makedirs(db)\n",
    "    os.chdir(db)\n",
    "    file_name = name + \".joblib\"\n",
    "    print(\"[+] Saving model to file : \" ,file_name)\n",
    "    joblib.dump(model, file_name)"
   ]
  },
  {
   "cell_type": "code",
   "execution_count": 4,
   "metadata": {},
   "outputs": [],
   "source": [
    "def linear_svm(X_train, y_train, X_test, y_test):\n",
    "    print(\"[!] SVM data...\")\n",
    "    clf = svm.SVC(kernel='linear').fit(X_train, y_train)\n",
    "    y_pred = clf.predict(X_test)\n",
    "    print(\"Accuracy:\",metrics.accuracy_score(y_test, y_pred))\n",
    "    print(\"[+] Finished\")\n",
    "    return clf"
   ]
  },
  {
   "cell_type": "code",
   "execution_count": 5,
   "metadata": {},
   "outputs": [
    {
     "name": "stdout",
     "output_type": "stream",
     "text": [
      "[+] Load data....\n",
      "[+] Load data finished\n",
      "[+] Load data....\n",
      "[+] Load data finished\n",
      "[!] SVM data...\n",
      "Accuracy: 0.9333333333333333\n",
      "[+] Finished\n",
      "[+] Saving model to file :  model.joblib\n"
     ]
    }
   ],
   "source": [
    "train = \"db/db1/train.txt\"\n",
    "test = \"db/db1/test.txt\"\n",
    "db = \"result/db1\"\n",
    "X_train, y_train = load_features(train)\n",
    "X_test, y_test = load_features(test)\n",
    "clf = linear_svm(X_train, y_train, X_test, y_test)\n",
    "save_model(clf, \"model\", db)"
   ]
  },
  {
   "cell_type": "code",
   "execution_count": null,
   "metadata": {},
   "outputs": [],
   "source": []
  }
 ],
 "metadata": {
  "kernelspec": {
   "display_name": "Python 3",
   "language": "python",
   "name": "python3"
  },
  "language_info": {
   "codemirror_mode": {
    "name": "ipython",
    "version": 3
   },
   "file_extension": ".py",
   "mimetype": "text/x-python",
   "name": "python",
   "nbconvert_exporter": "python",
   "pygments_lexer": "ipython3",
   "version": "3.6.8"
  }
 },
 "nbformat": 4,
 "nbformat_minor": 2
}
